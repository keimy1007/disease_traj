{
 "cells": [
  {
   "cell_type": "code",
   "execution_count": null,
   "metadata": {},
   "outputs": [],
   "source": [
    "import torch\n",
    "\n",
    "device = \"cuda\" if torch.cuda.is_available() else \"cpu\"\n",
    "import sys\n",
    "path_to_project = \"/home/path/to/project\"\n",
    "\n",
    "sys.path.append(path_to_project + \"benchmark_VAE/\")\n",
    "sys.path.append(path_to_project + \"benchmark_VAE/src/\")"
   ]
  },
  {
   "cell_type": "code",
   "execution_count": null,
   "metadata": {},
   "outputs": [],
   "source": [
    "import pickle\n",
    "from pythae.models import AutoModel\n",
    "from pythae.ssc.plots import *\n",
    "import random\n",
    "import matplotlib.pyplot as plt\n",
    "import numpy as np\n",
    "import os\n",
    "from pythae.ssc.results import EvalPatient, EvaluationDataset\n",
    "from pythae.ssc.utils import load_cv, remove_short_samples"
   ]
  },
  {
   "cell_type": "code",
   "execution_count": null,
   "metadata": {},
   "outputs": [],
   "source": [
    "# adapt paths\n",
    "data_path = path_to_project + \"fake_data/processed/\"\n",
    "figure_path = path_to_project + \"demo_notebooks/plots/\"\n",
    "model_path = (\n",
    "    path_to_project + \"demo_notebooks/saved_models/model_fold_0/\"\n",
    ")\n",
    "\n",
    "name = \"_ml4h\"\n",
    "with open(data_path + \"bodies_\" + name + \".pkl\", \"rb\") as file:\n",
    "    bodies = pickle.load(file)\n",
    "with open(data_path + \"cohorts_\" + name + \".pkl\", \"rb\") as file:\n",
    "    cohorts = pickle.load(file)"
   ]
  },
  {
   "cell_type": "code",
   "execution_count": null,
   "metadata": {},
   "outputs": [],
   "source": [
    "# variables info\n",
    "var_weights0 = [\n",
    "    var.class_weight_norm for var in (bodies[0].variables + bodies[0].labels)\n",
    "]\n",
    "(\n",
    "    data_train_folds,\n",
    "    data_valid_folds,\n",
    "    data_test_folds,\n",
    "    varNames,\n",
    "    varSplits,\n",
    "    xyt0,\n",
    "    xyt1,\n",
    ") = load_cv(data_path, n_folds=2, name=name)\n",
    "var_names0 = [var.name for var in (bodies[0].variables + bodies[0].labels)]\n",
    "\n",
    "names_x0 = [vN for i, vN in enumerate(var_names0) if xyt0[i] == \"x\"]\n",
    "names_y0 = [vN for i, vN in enumerate(var_names0) if xyt0[i] == \"y\"]\n",
    "names_s0 = [vN for i, vN in enumerate(var_names0) if xyt0[i] == \"s\"]\n",
    "\n",
    "kinds_x0 = [\n",
    "    var.kind\n",
    "    for var in (bodies[0].variables + bodies[0].labels)\n",
    "    for nx in names_x0\n",
    "    if var.name == nx\n",
    "]\n",
    "kinds_y0 = [\n",
    "    var.kind\n",
    "    for var in (bodies[0].variables + bodies[0].labels)\n",
    "    for nx in names_y0\n",
    "    if var.name == nx\n",
    "]\n",
    "splits_x0 = [vN for i, vN in enumerate(varSplits) if xyt0[i] == \"x\"]\n",
    "splits_y0 = [vN for i, vN in enumerate(varSplits) if xyt0[i] == \"y\"]\n",
    "splits_s0 = [vN for i, vN in enumerate(varSplits) if xyt0[i] == \"s\"]\n",
    "\n",
    "names_x1 = [vN for i, vN in enumerate(varNames) if xyt1[i] == \"x\"]\n",
    "kinds_x1 = [item for i, spl in enumerate(splits_x0) for item in [kinds_x0[i]] * spl]"
   ]
  },
  {
   "cell_type": "code",
   "execution_count": null,
   "metadata": {},
   "outputs": [],
   "source": [
    "# remove samples of length 0 or 1\n",
    "for i, (data_train, data_valid, data_test) in enumerate(\n",
    "    zip(data_train_folds, data_valid_folds, data_test_folds)\n",
    "):\n",
    "    data_train, data_valid, data_test = remove_short_samples(\n",
    "        data_train, data_valid, data_test\n",
    "    )\n",
    "\n",
    "    data_train_folds[i] = data_train\n",
    "    data_valid_folds[i] = data_valid\n",
    "    data_test_folds[i] = data_test"
   ]
  },
  {
   "cell_type": "code",
   "execution_count": null,
   "metadata": {},
   "outputs": [],
   "source": [
    "last_training = sorted(os.listdir(model_path))[-1]\n",
    "model = AutoModel.load_from_folder(\n",
    "    os.path.join(model_path, last_training, \"final_model\")\n",
    ")"
   ]
  },
  {
   "cell_type": "code",
   "execution_count": null,
   "metadata": {},
   "outputs": [],
   "source": [
    "# move to cpu\n",
    "model.cpu()\n",
    "model.device = \"cpu\"\n",
    "model.classifiers = [classif.cpu() for classif in model.classifiers]\n",
    "model.encoder.device = \"cpu\"\n",
    "model.decoder.device = \"cpu\"\n",
    "fold = 0\n",
    "data_train = data_train_folds[fold]\n",
    "data_valid = data_valid_folds[fold]\n",
    "data_test = data_test_folds[fold]\n",
    "body = bodies[fold]"
   ]
  },
  {
   "cell_type": "code",
   "execution_count": null,
   "metadata": {},
   "outputs": [],
   "source": [
    "eval_p = EvalPatient(\n",
    "    data_test,\n",
    "    model,\n",
    "    body,\n",
    "    splits_x0,\n",
    "    names_x0,\n",
    "    kinds_x0,\n",
    "    splits_y0,\n",
    "    names_y0,\n",
    "    kinds_y0,\n",
    "    names_s0,\n",
    "    kinds_x1,\n",
    "    names_x1,\n",
    "    1,\n",
    "    batch_num=random.choice(range(len(data_test))),\n",
    ")"
   ]
  },
  {
   "cell_type": "code",
   "execution_count": null,
   "metadata": {},
   "outputs": [],
   "source": [
    "eval_p.evaluate()"
   ]
  },
  {
   "cell_type": "code",
   "execution_count": null,
   "metadata": {},
   "outputs": [],
   "source": [
    "names_cont = [\n",
    "    elem\n",
    "    for index, elem in enumerate(names_x1)\n",
    "    if kinds_x1[index] in [\"continuous\", \"ordinal\"]\n",
    "]\n",
    "for name in names_cont[:1]:\n",
    "    print(name)\n",
    "    eval_p.plot_continuous_feature(name, figure_path, plot_missing=True)"
   ]
  },
  {
   "cell_type": "code",
   "execution_count": null,
   "metadata": {},
   "outputs": [],
   "source": [
    "evaluation = EvaluationDataset(\n",
    "    data_test,\n",
    "    model,\n",
    "    body,\n",
    "    splits_x0,\n",
    "    names_x0,\n",
    "    kinds_x0,\n",
    "    splits_y0,\n",
    "    names_y0,\n",
    "    kinds_y0,\n",
    "    names_s0,\n",
    "    kinds_x1,\n",
    "    names_x1,\n",
    "    len(data_test),\n",
    ")\n",
    "evaluation.evaluate(num_samples=10)"
   ]
  },
  {
   "cell_type": "code",
   "execution_count": null,
   "metadata": {},
   "outputs": [],
   "source": [
    "evaluation.get_patient_specific_baseline_x()\n",
    "evaluation.get_result_df_x(verbose=False)"
   ]
  },
  {
   "cell_type": "code",
   "execution_count": null,
   "metadata": {},
   "outputs": [],
   "source": [
    "evaluation.get_patient_specific_baseline_y()\n",
    "evaluation.get_result_df_y(verbose=False)"
   ]
  },
  {
   "cell_type": "code",
   "execution_count": null,
   "metadata": {},
   "outputs": [],
   "source": []
  }
 ],
 "metadata": {
  "kernelspec": {
   "display_name": "Python 3",
   "language": "python",
   "name": "python3"
  },
  "language_info": {
   "codemirror_mode": {
    "name": "ipython",
    "version": 3
   },
   "file_extension": ".py",
   "mimetype": "text/x-python",
   "name": "python",
   "nbconvert_exporter": "python",
   "pygments_lexer": "ipython3",
   "version": "3.8.10"
  },
  "orig_nbformat": 4
 },
 "nbformat": 4,
 "nbformat_minor": 2
}
